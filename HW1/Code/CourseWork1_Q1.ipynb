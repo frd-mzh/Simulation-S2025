{
 "cells": [
  {
   "cell_type": "markdown",
   "id": "c99dea19",
   "metadata": {},
   "source": [
    "<h1 style=\"font-family: 'Arial', Times, serif;\">CourseWork1_Q1</h1>"
   ]
  },
  {
   "cell_type": "code",
   "execution_count": 115,
   "id": "cb5ceaf0",
   "metadata": {},
   "outputs": [
    {
     "name": "stderr",
     "output_type": "stream",
     "text": [
      "C:\\ProgramData\\anaconda3\\Lib\\site-packages\\pandas\\core\\arrays\\masked.py:60: UserWarning: Pandas requires version '1.3.6' or newer of 'bottleneck' (version '1.3.5' currently installed).\n",
      "  from pandas.core import (\n"
     ]
    }
   ],
   "source": [
    "import numpy as np\n",
    "import pandas as pd\n",
    "import heapq\n",
    "import time"
   ]
  },
  {
   "cell_type": "markdown",
   "id": "6d9e7f11",
   "metadata": {},
   "source": [
    "<h1 style=\"font-family: 'Arial', Times, serif;\">Defining the Variables</h1>"
   ]
  },
  {
   "cell_type": "code",
   "execution_count": 568,
   "id": "5cab7eb7",
   "metadata": {},
   "outputs": [],
   "source": [
    "T = 5 * 60 #The total time of the simulation\n",
    "Tnow = 0 #The time of the simulatiion processs\n",
    "MTOT = 0 #The total number of people in the simulation\n",
    "SVR = 0 #Amount of time that the server is busy\n",
    "Code = 0 #Entering the system (0) or when the service is finished (1)\n",
    "WT = 0 #The waiting time for Q[-1]\n",
    "TWT = 0 #Total waiting time of the system\n",
    "Q = 0 #Number of people in the queue\n",
    "Status = 0 #If the server is idle (0) or busy (1)\n",
    "FEL = []\n",
    "queue_arrivals = []  # Stores arrival times for waiting customers"
   ]
  },
  {
   "cell_type": "markdown",
   "id": "73249eb9",
   "metadata": {},
   "source": [
    "<h1 style=\"font-family: 'Arial', Times, serif;\">Starting the simulation </h1>"
   ]
  },
  {
   "cell_type": "code",
   "execution_count": 569,
   "id": "5a9b11a7",
   "metadata": {},
   "outputs": [
    {
     "data": {
      "text/plain": [
       "[(7.93, 0)]"
      ]
     },
     "execution_count": 569,
     "metadata": {},
     "output_type": "execute_result"
    }
   ],
   "source": [
    "heapq.heappush(FEL, (round(np.random.uniform(1, 8), 2), 0))\n",
    "FEL"
   ]
  },
  {
   "cell_type": "code",
   "execution_count": 572,
   "id": "e9a1163f",
   "metadata": {},
   "outputs": [
    {
     "ename": "IndexError",
     "evalue": "index out of range",
     "output_type": "error",
     "traceback": [
      "\u001b[1;31m---------------------------------------------------------------------------\u001b[0m",
      "\u001b[1;31mIndexError\u001b[0m                                Traceback (most recent call last)",
      "Cell \u001b[1;32mIn[572], line 3\u001b[0m\n\u001b[0;32m      1\u001b[0m \u001b[38;5;66;03m# Simulation\u001b[39;00m\n\u001b[0;32m      2\u001b[0m \u001b[38;5;28;01mwhile\u001b[39;00m \u001b[38;5;28;01mTrue\u001b[39;00m:\n\u001b[1;32m----> 3\u001b[0m     Tnow, Code \u001b[38;5;241m=\u001b[39m heapq\u001b[38;5;241m.\u001b[39mheappop(FEL) \n\u001b[0;32m      4\u001b[0m     \u001b[38;5;28;01mif\u001b[39;00m Tnow\u001b[38;5;241m>\u001b[39mT: \u001b[38;5;66;03m# End of the simulation\u001b[39;00m\n\u001b[0;32m      5\u001b[0m         \u001b[38;5;28mprint\u001b[39m(\u001b[38;5;124mf\u001b[39m\u001b[38;5;124m\"\u001b[39m\u001b[38;5;124mAverage waiting time in queue: \u001b[39m\u001b[38;5;132;01m{\u001b[39;00m\u001b[38;5;28mround\u001b[39m(TWT\u001b[38;5;250m \u001b[39m\u001b[38;5;241m/\u001b[39m\u001b[38;5;250m \u001b[39mMTOT,\u001b[38;5;250m \u001b[39m\u001b[38;5;241m2\u001b[39m)\u001b[38;5;132;01m}\u001b[39;00m\u001b[38;5;124m minutes\u001b[39m\u001b[38;5;124m\"\u001b[39m)\n",
      "\u001b[1;31mIndexError\u001b[0m: index out of range"
     ]
    }
   ],
   "source": [
    "# Simulation\n",
    "while True:\n",
    "    Tnow, Code = heapq.heappop(FEL) \n",
    "    if Tnow>T: # End of the simulation\n",
    "        print(f\"Average waiting time in queue: {round(TWT / MTOT, 2)} minutes\")\n",
    "        print(f'The Percentage of Server Idle Time: {round(100 - (SVR / (Tnow + ST) * 100), 2)}%')\n",
    "        print(f'Average time in system: {round((TWT + SVR) / MTOT, 2)} minutes') \n",
    "        print(f'Total customers: {MTOT}')\n",
    "        \n",
    "        print(f'\\nTotal server busy time: {round(SVR, 2)} minutes')\n",
    "        print(f\"Total waiting time: {round(TWT, 2)} minutes\")\n",
    "        break\n",
    "\n",
    "    else:\n",
    "        if Code < 1: # Entering the system\n",
    "            MTOT += 1\n",
    "            arrival_time = Tnow\n",
    "            heapq.heappush(FEL, (round(np.random.uniform(1, 8)+Tnow, 2), 0)) # A_star and next enternce  \n",
    "            \n",
    "            if Status == 0: # Server was idle\n",
    "                Status = 1\n",
    "                ST = round(np.random.uniform(1, 8), 2)\n",
    "                SVR += ST\n",
    "                TST.append(ST)\n",
    "                heapq.heappush(FEL, (ST+Tnow, 1))\n",
    "                    \n",
    "            else: # Server was busy\n",
    "                Q += 1\n",
    "                queue_arrivals.append(arrival_time)\n",
    "                \n",
    "                \n",
    "        else: # When the service get finished\n",
    "            if Q == 0:\n",
    "                Status = 0 # There is nobody in the queue         \n",
    "            else:\n",
    "                Q -= 1\n",
    "                arrival_time = queue_arrivals.pop(0)  # Get first arrival from queue\n",
    "                WT = Tnow - arrival_time  # Correct waiting time calculation\n",
    "                TWT += WT\n",
    "                ST = round(np.random.uniform(3, 8), 2)\n",
    "                SVR += ST\n",
    "                heapq.heappush(FEL, (ST+Tnow, 1))"
   ]
  },
  {
   "cell_type": "markdown",
   "id": "91b1050a",
   "metadata": {},
   "source": [
    "<h1 style=\"font-family: 'Arial', Times, serif;\">End of Code</h1>"
   ]
  }
 ],
 "metadata": {
  "kernelspec": {
   "display_name": "Python 3 (ipykernel)",
   "language": "python",
   "name": "python3"
  },
  "language_info": {
   "codemirror_mode": {
    "name": "ipython",
    "version": 3
   },
   "file_extension": ".py",
   "mimetype": "text/x-python",
   "name": "python",
   "nbconvert_exporter": "python",
   "pygments_lexer": "ipython3",
   "version": "3.11.5"
  }
 },
 "nbformat": 4,
 "nbformat_minor": 5
}
