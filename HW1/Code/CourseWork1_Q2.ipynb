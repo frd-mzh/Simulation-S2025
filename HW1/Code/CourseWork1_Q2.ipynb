{
 "cells": [
  {
   "cell_type": "markdown",
   "id": "841e34db",
   "metadata": {},
   "source": [
    "<h1 style=\"font-family: 'Arial', Times, serif;\">CourseWork1_Q2</h1>"
   ]
  },
  {
   "cell_type": "code",
   "execution_count": 16,
   "id": "01767d91",
   "metadata": {},
   "outputs": [],
   "source": [
    "import numpy as np\n",
    "import pandas as pd\n",
    "import time\n",
    "import heapq\n",
    "import matplotlib.pyplot as plt\n",
    "from scipy import stats"
   ]
  },
  {
   "cell_type": "markdown",
   "id": "d37cfe49",
   "metadata": {},
   "source": [
    "<h1 style=\"font-family: 'Arial', Times, serif;\">The Probability of Lifetime</h1>"
   ]
  },
  {
   "cell_type": "code",
   "execution_count": 17,
   "id": "903b9691",
   "metadata": {},
   "outputs": [
    {
     "data": {
      "text/html": [
       "<div>\n",
       "<style scoped>\n",
       "    .dataframe tbody tr th:only-of-type {\n",
       "        vertical-align: middle;\n",
       "    }\n",
       "\n",
       "    .dataframe tbody tr th {\n",
       "        vertical-align: top;\n",
       "    }\n",
       "\n",
       "    .dataframe thead th {\n",
       "        text-align: right;\n",
       "    }\n",
       "</style>\n",
       "<table border=\"1\" class=\"dataframe\">\n",
       "  <thead>\n",
       "    <tr style=\"text-align: right;\">\n",
       "      <th></th>\n",
       "      <th>Prob</th>\n",
       "      <th>LifeTime</th>\n",
       "    </tr>\n",
       "  </thead>\n",
       "  <tbody>\n",
       "    <tr>\n",
       "      <th>0</th>\n",
       "      <td>0.10</td>\n",
       "      <td>1000</td>\n",
       "    </tr>\n",
       "    <tr>\n",
       "      <th>1</th>\n",
       "      <td>0.13</td>\n",
       "      <td>1100</td>\n",
       "    </tr>\n",
       "    <tr>\n",
       "      <th>2</th>\n",
       "      <td>0.25</td>\n",
       "      <td>1200</td>\n",
       "    </tr>\n",
       "    <tr>\n",
       "      <th>3</th>\n",
       "      <td>0.13</td>\n",
       "      <td>1300</td>\n",
       "    </tr>\n",
       "    <tr>\n",
       "      <th>4</th>\n",
       "      <td>0.09</td>\n",
       "      <td>1400</td>\n",
       "    </tr>\n",
       "    <tr>\n",
       "      <th>5</th>\n",
       "      <td>0.12</td>\n",
       "      <td>1500</td>\n",
       "    </tr>\n",
       "    <tr>\n",
       "      <th>6</th>\n",
       "      <td>0.02</td>\n",
       "      <td>1600</td>\n",
       "    </tr>\n",
       "    <tr>\n",
       "      <th>7</th>\n",
       "      <td>0.06</td>\n",
       "      <td>1700</td>\n",
       "    </tr>\n",
       "    <tr>\n",
       "      <th>8</th>\n",
       "      <td>0.05</td>\n",
       "      <td>1800</td>\n",
       "    </tr>\n",
       "    <tr>\n",
       "      <th>9</th>\n",
       "      <td>0.05</td>\n",
       "      <td>1900</td>\n",
       "    </tr>\n",
       "  </tbody>\n",
       "</table>\n",
       "</div>"
      ],
      "text/plain": [
       "   Prob  LifeTime\n",
       "0  0.10      1000\n",
       "1  0.13      1100\n",
       "2  0.25      1200\n",
       "3  0.13      1300\n",
       "4  0.09      1400\n",
       "5  0.12      1500\n",
       "6  0.02      1600\n",
       "7  0.06      1700\n",
       "8  0.05      1800\n",
       "9  0.05      1900"
      ]
     },
     "execution_count": 17,
     "metadata": {},
     "output_type": "execute_result"
    }
   ],
   "source": [
    "Prob_table_LifeTime = pd.DataFrame({\n",
    "    'Prob': [0.1, 0.13, 0.25, 0.13, 0.09, 0.12, 0.02, 0.06, 0.05, 0.05],\n",
    "     'LifeTime': [1000, 1100, 1200, 1300, 1400, 1500, 1600, 1700, 1800, 1900]})\n",
    "Prob_table_LifeTime"
   ]
  },
  {
   "cell_type": "code",
   "execution_count": 18,
   "id": "7a6a07ac",
   "metadata": {},
   "outputs": [
    {
     "data": {
      "text/plain": [
       "1400"
      ]
     },
     "execution_count": 18,
     "metadata": {},
     "output_type": "execute_result"
    }
   ],
   "source": [
    "def LifeTimeGenerator():\n",
    "    return np.random.choice(Prob_table_LifeTime['LifeTime'], size=1, p=Prob_table_LifeTime['Prob'].values)[0]\n",
    "LifeTimeGenerator()"
   ]
  },
  {
   "cell_type": "markdown",
   "id": "b94871c7",
   "metadata": {},
   "source": [
    "<h1 style=\"font-family: 'Arial', Times, serif;\">The Probability of DelayTime</h1>"
   ]
  },
  {
   "cell_type": "code",
   "execution_count": 19,
   "id": "471df511",
   "metadata": {},
   "outputs": [
    {
     "data": {
      "text/html": [
       "<div>\n",
       "<style scoped>\n",
       "    .dataframe tbody tr th:only-of-type {\n",
       "        vertical-align: middle;\n",
       "    }\n",
       "\n",
       "    .dataframe tbody tr th {\n",
       "        vertical-align: top;\n",
       "    }\n",
       "\n",
       "    .dataframe thead th {\n",
       "        text-align: right;\n",
       "    }\n",
       "</style>\n",
       "<table border=\"1\" class=\"dataframe\">\n",
       "  <thead>\n",
       "    <tr style=\"text-align: right;\">\n",
       "      <th></th>\n",
       "      <th>Prob</th>\n",
       "      <th>DelayTime</th>\n",
       "    </tr>\n",
       "  </thead>\n",
       "  <tbody>\n",
       "    <tr>\n",
       "      <th>0</th>\n",
       "      <td>0.6</td>\n",
       "      <td>5</td>\n",
       "    </tr>\n",
       "    <tr>\n",
       "      <th>1</th>\n",
       "      <td>0.3</td>\n",
       "      <td>10</td>\n",
       "    </tr>\n",
       "    <tr>\n",
       "      <th>2</th>\n",
       "      <td>0.1</td>\n",
       "      <td>15</td>\n",
       "    </tr>\n",
       "  </tbody>\n",
       "</table>\n",
       "</div>"
      ],
      "text/plain": [
       "   Prob  DelayTime\n",
       "0   0.6          5\n",
       "1   0.3         10\n",
       "2   0.1         15"
      ]
     },
     "execution_count": 19,
     "metadata": {},
     "output_type": "execute_result"
    }
   ],
   "source": [
    "Prob_table_DelayTime = pd.DataFrame({\n",
    "    'Prob': [0.6, 0.3, 0.1],\n",
    "     'DelayTime': [5, 10, 15]})\n",
    "Prob_table_DelayTime"
   ]
  },
  {
   "cell_type": "code",
   "execution_count": 20,
   "id": "064715be",
   "metadata": {},
   "outputs": [
    {
     "data": {
      "text/plain": [
       "5"
      ]
     },
     "execution_count": 20,
     "metadata": {},
     "output_type": "execute_result"
    }
   ],
   "source": [
    "def DelayTimeGenerator():\n",
    "    return np.random.choice(Prob_table_DelayTime['DelayTime'], size=1, p=Prob_table_DelayTime['Prob'].values)[0]\n",
    "DelayTimeGenerator()"
   ]
  },
  {
   "cell_type": "markdown",
   "id": "11007b1b",
   "metadata": {},
   "source": [
    "<h1 style=\"font-family: 'Arial', Times, serif;\">Defining the Variables</h1>"
   ]
  },
  {
   "cell_type": "code",
   "execution_count": 24,
   "id": "346d45e9",
   "metadata": {},
   "outputs": [
    {
     "data": {
      "text/plain": [
       "array([1400, 1700, 1300], dtype=int64)"
      ]
     },
     "execution_count": 24,
     "metadata": {},
     "output_type": "execute_result"
    }
   ],
   "source": [
    "T = 30000\n",
    "Tnow = 0\n",
    "Mb = 0 # Number of bearing \n",
    "TTC = 0 # Total cost of deactivating\n",
    "TBC = 0 # The cost of buying bearing\n",
    "TW = 0 # The total wage of the worker\n",
    "Rt = 0 # Repairing time\n",
    "Dt = 0 # Deactivating time\n",
    "counter_1, counter_2, counter_3 = 0, 0, 0\n",
    "FEL = np.array([LifeTimeGenerator(),LifeTimeGenerator(),LifeTimeGenerator()])\n",
    "FEL"
   ]
  },
  {
   "cell_type": "markdown",
   "id": "eb47748a",
   "metadata": {},
   "source": [
    "<h1 style=\"font-family: 'Arial', Times, serif;\">Starting The Simulation</h1>"
   ]
  },
  {
   "cell_type": "markdown",
   "id": "fcb4aa64",
   "metadata": {},
   "source": [
    "###### Part One - Repairing Method"
   ]
  },
  {
   "cell_type": "code",
   "execution_count": 21,
   "id": "de5c996d",
   "metadata": {},
   "outputs": [
    {
     "name": "stdout",
     "output_type": "stream",
     "text": [
      "The simulation took 0.0005123615264892578 seconds\n",
      "--------------------------------------------------\n",
      "In The Simulation All Three of Bearings Repaired 0 Times Together\n",
      "In The Simulation Two of Bearings Repaired 5 Times Together\n",
      "In The Simulation One Bearing Repaired 57 Times\n",
      "--------------------------------------------------\n",
      "The Repairing Time is 1290 Minutes\n",
      "The Deactivating Time is 450 Minutes\n",
      "The Cost of The Machine Being Deactivated is 8700$\n",
      "The cost of buying bearings is 1072$\n",
      "The total wage of the worker is 6450.0$\n",
      "--------------------------------------------------\n",
      "The Total Cost is 16222.0$\n"
     ]
    }
   ],
   "source": [
    "start_time = time.time()\n",
    "while True:\n",
    "    if Tnow>T:\n",
    "        Rt = Mb * 20 - (counter_2 * 10 + counter_3 * 20)\n",
    "        TTC = (Dt + Rt) * 5\n",
    "        TBC = Mb * 16\n",
    "        TW = Rt * 15 / 3\n",
    "        break\n",
    "        \n",
    "    elif len(set(FEL)) == 1:\n",
    "        print(FEL)\n",
    "        counter_3 += 1\n",
    "        Mb += 3\n",
    "        Tnow = min(FEL)\n",
    "        for i in np.where(FEL == min(FEL))[0]:\n",
    "            FEL[i] = LifeTimeGenerator() + Tnow\n",
    "#         print(FEL)\n",
    "        \n",
    "    elif len(FEL[FEL == min(FEL)]) == 2:\n",
    "#         print(FEL)\n",
    "        counter_2 += 1\n",
    "        Mb += 2\n",
    "        Tnow = min(FEL)\n",
    "        for i in np.where(FEL == min(FEL))[0]:\n",
    "            FEL[i] = LifeTimeGenerator() + Tnow\n",
    "    else: # Repairing the bearings\n",
    "        counter_1 += 1\n",
    "        Mb += 1 \n",
    "        Tnow = min(FEL)\n",
    "        Dt += DelayTimeGenerator()\n",
    "        i = np.where(FEL == min(FEL))[0][0] # Update the FEL\n",
    "        FEL[i] = LifeTimeGenerator() + Tnow\n",
    "\n",
    "end_time = time.time()\n",
    "print(f'The simulation took {end_time-start_time} seconds')\n",
    "print('--------------------------------------------------')\n",
    "print(f'In The Simulation All Three of Bearings Repaired {counter_3} Times Together')\n",
    "print(f'In The Simulation Two of Bearings Repaired {counter_2} Times Together')\n",
    "print(f'In The Simulation One Bearing Repaired {counter_1} Times')\n",
    "print('--------------------------------------------------')\n",
    "print(f'The Repairing Time is {Rt} Minutes')\n",
    "print(f'The Deactivating Time is {Dt} Minutes')\n",
    "print(f'The Cost of The Machine Being Deactivated is {TTC}$')\n",
    "print(f'The cost of buying bearings is {TBC}$')\n",
    "print(f'The total wage of the worker is {TW}$')\n",
    "print('--------------------------------------------------')\n",
    "print(f'The Total Cost is {TBC+TW+TTC}$')"
   ]
  },
  {
   "cell_type": "code",
   "execution_count": 22,
   "id": "f4ab50b4",
   "metadata": {},
   "outputs": [
    {
     "data": {
      "text/plain": [
       "array([31200, 31500, 30500], dtype=int64)"
      ]
     },
     "execution_count": 22,
     "metadata": {},
     "output_type": "execute_result"
    }
   ],
   "source": [
    "FEL"
   ]
  },
  {
   "cell_type": "markdown",
   "id": "9cb80ba4",
   "metadata": {},
   "source": [
    "###### Part Two - Maintenance"
   ]
  },
  {
   "cell_type": "code",
   "execution_count": 25,
   "id": "cc0c5931",
   "metadata": {},
   "outputs": [
    {
     "name": "stdout",
     "output_type": "stream",
     "text": [
      "The simulation took 0.010741472244262695 seconds\n",
      "--------------------------------------------------\n",
      "The Repairing Time is 1040 Minutes\n",
      "The Deactivating Time is 220 Minutes\n",
      "The Cost of The Machine Being Deactivated is 6300$\n",
      "The cost of buying bearings is 1248$\n",
      "The total wage of the worker is 5200.0$\n",
      "--------------------------------------------------\n",
      "The Total Cost is 12748.0$\n"
     ]
    }
   ],
   "source": [
    "start_time = time.time()\n",
    "while True:\n",
    "    if Tnow>T:\n",
    "        TTC = (Dt + Rt) * 5\n",
    "        TBC = Mb * 16\n",
    "        TW = Rt * 15 / 3\n",
    "        break\n",
    "        \n",
    "    else: # Repairing the bearings\n",
    "        Mb += 3\n",
    "        Rt += 40\n",
    "        Tnow = min(FEL)\n",
    "        Dt += DelayTimeGenerator()\n",
    "        FEL = np.array([LifeTimeGenerator() + Tnow,\n",
    "                        LifeTimeGenerator() + Tnow,\n",
    "                        LifeTimeGenerator() + Tnow])\n",
    "        \n",
    "end_time = time.time()\n",
    "print(f'The simulation took {end_time-start_time} seconds')\n",
    "print('--------------------------------------------------')\n",
    "print(f'The Repairing Time is {Rt} Minutes')\n",
    "print(f'The Deactivating Time is {Dt} Minutes')\n",
    "print(f'The Cost of The Machine Being Deactivated is {TTC}$')\n",
    "print(f'The cost of buying bearings is {TBC}$')\n",
    "print(f'The total wage of the worker is {TW}$')\n",
    "print('--------------------------------------------------')\n",
    "print(f'The Total Cost is {TBC+TW+TTC}$')"
   ]
  },
  {
   "cell_type": "code",
   "execution_count": 364,
   "id": "a2bd07bd",
   "metadata": {},
   "outputs": [
    {
     "data": {
      "text/plain": [
       "array([31500, 31600, 31500], dtype=int64)"
      ]
     },
     "execution_count": 364,
     "metadata": {},
     "output_type": "execute_result"
    }
   ],
   "source": [
    "FEL"
   ]
  },
  {
   "cell_type": "markdown",
   "id": "15c6c63b",
   "metadata": {},
   "source": [
    "<h1 style=\"font-family: 'Arial', Times, serif;\">Simulation Thousand Times</h1>"
   ]
  },
  {
   "cell_type": "markdown",
   "id": "18650e8b",
   "metadata": {},
   "source": [
    "###### Part One - Repairing Method "
   ]
  },
  {
   "cell_type": "code",
   "execution_count": 26,
   "id": "88b685c9",
   "metadata": {},
   "outputs": [
    {
     "name": "stdout",
     "output_type": "stream",
     "text": [
      "The simulation took 8.881569623947144 seconds\n"
     ]
    }
   ],
   "source": [
    "lst_1 = []\n",
    "start_time = time.time()\n",
    "for i in range(1000):\n",
    "    T = 30000\n",
    "    Tnow = 0\n",
    "    Mb = 0 # Number of bearing \n",
    "    TTC = 0 # Total cost of deactivating\n",
    "    TBC = 0 # The cost of buying bearing\n",
    "    TW = 0 # The total wage of the worker\n",
    "    Rt = 0 # Repairing time\n",
    "    Dt = 0 # Deactivating time\n",
    "    counter_1, counter_2, counter_3 = 0, 0, 0\n",
    "    FEL = np.array([LifeTimeGenerator(),LifeTimeGenerator(),LifeTimeGenerator()])\n",
    "    while True:\n",
    "        if Tnow>T:\n",
    "            Rt = Mb * 20 - (counter_2 * 10 + counter_3 * 20)\n",
    "            TTC = (Dt + Rt) * 5\n",
    "            TBC = Mb * 16\n",
    "            TW = Rt * 15 / 3\n",
    "            Total_cost = TBC+TW+TTC\n",
    "            lst_1.append(Total_cost)\n",
    "            break\n",
    "\n",
    "        elif len(set(FEL)) == 1:\n",
    "            counter_3 += 1\n",
    "            Mb += 3\n",
    "            Tnow = min(FEL)\n",
    "            for i in np.where(FEL == min(FEL))[0]:\n",
    "                FEL[i] = LifeTimeGenerator() + Tnow\n",
    "\n",
    "        elif len(FEL[FEL == min(FEL)]) == 2:\n",
    "            counter_2 += 1\n",
    "            Mb += 2\n",
    "            Tnow = min(FEL)\n",
    "            for i in np.where(FEL == min(FEL))[0]:\n",
    "                FEL[i] = LifeTimeGenerator() + Tnow\n",
    "\n",
    "        else:\n",
    "            counter_1 += 1\n",
    "            Mb += 1 \n",
    "            Tnow = min(FEL)\n",
    "            Dt += DelayTimeGenerator()\n",
    "            i = np.where(FEL == min(FEL))[0][0] # Update the FEL\n",
    "            FEL[i] = LifeTimeGenerator() + Tnow\n",
    "end_time = time.time()\n",
    "print(f'The simulation took {end_time-start_time} seconds')"
   ]
  },
  {
   "cell_type": "code",
   "execution_count": 13,
   "id": "1e6cbc0e",
   "metadata": {},
   "outputs": [
    {
     "data": {
      "image/png": "[encoded data removed]",
      "text/plain": [
       "<Figure size 640x480 with 1 Axes>"
      ]
     },
     "metadata": {},
     "output_type": "display_data"
    }
   ],
   "source": [
    "plt.title('Repairing Method - Thosand Time Simulation')\n",
    "density = stats.gaussian_kde(lst_1)\n",
    "xt = np.linspace(min(lst_1), max(lst_1), 1000)\n",
    "yt = density(xt)\n",
    "plt.plot(xt, yt, color = 'black', linewidth=2)\n",
    "plt.hist(lst_1, density=True, color = 'red', alpha = 0.7, label = 'Repairing Cost')\n",
    "plt.xlabel('Total Repairing Cost')\n",
    "plt.axvline(sum(lst_1)/len(lst_1), color = 'black', linewidth=2, linestyle='--', label = 'mean')\n",
    "plt.legend()\n",
    "plt.show()"
   ]
  },
  {
   "cell_type": "markdown",
   "id": "b6db7973",
   "metadata": {},
   "source": [
    "###### Part Two - Repairing Method "
   ]
  },
  {
   "cell_type": "code",
   "execution_count": 367,
   "id": "3ac29b0b",
   "metadata": {},
   "outputs": [],
   "source": [
    "lst_2 = []\n",
    "for i in range(1000):\n",
    "    T = 30000\n",
    "    Tnow = 0\n",
    "    Mb = 0 # Number of bearing \n",
    "    TTC = 0 # Total cost of deactivating\n",
    "    TBC = 0 # The cost of buying bearing\n",
    "    TW = 0 # The total wage of the worker\n",
    "    Rt = 0 # Repairing time\n",
    "    Dt = 0 # Deactivating time\n",
    "    FEL = np.array([LifeTimeGenerator(),LifeTimeGenerator(),LifeTimeGenerator()])\n",
    "    while True:\n",
    "        if Tnow>T:\n",
    "            TTC = (Dt + Rt) * 5\n",
    "            TBC = Mb * 16\n",
    "            TW = Rt * 15 / 3\n",
    "            Total_cost = TBC+TW+TTC\n",
    "            lst_2.append(Total_cost)\n",
    "            break\n",
    "\n",
    "        else: # Repairing the bearings\n",
    "            Mb += 3\n",
    "            Rt += 40\n",
    "            Tnow = min(FEL)\n",
    "            Dt += DelayTimeGenerator()\n",
    "            FEL = np.array([LifeTimeGenerator() + Tnow,\n",
    "                            LifeTimeGenerator() + Tnow,\n",
    "                            LifeTimeGenerator() + Tnow])"
   ]
  },
  {
   "cell_type": "code",
   "execution_count": 370,
   "id": "c660a91a",
   "metadata": {},
   "outputs": [
    {
     "data": {
      "image/png": "[encoded data removed]",
      "text/plain": [
       "<Figure size 640x480 with 1 Axes>"
      ]
     },
     "metadata": {},
     "output_type": "display_data"
    }
   ],
   "source": [
    "plt.title('Maintenance Method - Thosand Time Simulation')\n",
    "density = stats.gaussian_kde(lst_2)\n",
    "xt = np.linspace(min(lst_2), max(lst_2), 1000)\n",
    "yt = density(xt)\n",
    "plt.plot(xt, yt, color = 'black', linewidth=2)\n",
    "plt.hist(lst_2, density=True, color = 'red', alpha = 0.7, label = 'Maintenance Cost')\n",
    "plt.xlabel('Total Maintenance Cost')\n",
    "plt.axvline(sum(lst_2)/len(lst_2), color = 'black', linewidth=2, linestyle='--', label = 'mean')\n",
    "plt.legend()\n",
    "plt.show()"
   ]
  },
  {
   "cell_type": "markdown",
   "id": "ccedd9b4",
   "metadata": {},
   "source": [
    "<h1 style=\"font-family: 'Arial', Times, serif;\">End of Code</h1>"
   ]
  }
 ],
 "metadata": {
  "kernelspec": {
   "display_name": "Python 3 (ipykernel)",
   "language": "python",
   "name": "python3"
  },
  "language_info": {
   "codemirror_mode": {
    "name": "ipython",
    "version": 3
   },
   "file_extension": ".py",
   "mimetype": "text/x-python",
   "name": "python",
   "nbconvert_exporter": "python",
   "pygments_lexer": "ipython3",
   "version": "3.11.5"
  }
 },
 "nbformat": 4,
 "nbformat_minor": 5
}
